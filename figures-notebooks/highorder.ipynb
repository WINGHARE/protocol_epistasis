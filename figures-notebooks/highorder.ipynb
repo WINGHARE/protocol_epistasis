{
 "cells": [
  {
   "cell_type": "markdown",
   "metadata": {},
   "source": [
    "# Figure 2"
   ]
  },
  {
   "cell_type": "markdown",
   "metadata": {},
   "source": [
    "In Figure 2, we show nonlinear, high-order epistasis fits for all data sets."
   ]
  },
  {
   "cell_type": "markdown",
   "metadata": {},
   "source": [
    "# Data set I"
   ]
  },
  {
   "cell_type": "code",
   "execution_count": 1,
   "metadata": {},
   "outputs": [],
   "source": [
    "#%matplotlib inline\n",
    "import matplotlib.pyplot as plt\n",
    "import numpy as np\n",
    "import epistasis.models.nonlinear.power as power\n",
    "import json\n",
    "\n",
    "from gpmap import GenotypePhenotypeMap\n",
    "from epistasis import pyplot\n",
    "from epistasis.models.nonlinear.power import EpistasisPowerTransform\n",
    "from epistasis.models.nonlinear.ordinary import EpistasisNonlinearRegression\n",
    "from epistasis.models.linear import EpistasisLinearRegression\n",
    "from epistasis.models.linear import EpistasisElasticNet,EpistasisLasso\n",
    "from epistasis.models.nonlinear.ordinary import EpistasisNonlinearRegression\n",
    "from epistasis.models.pipeline import EpistasisPipeline \n",
    "\n",
    "path = \"../datasets/\"\n",
    "plt.rcParams.update({'font.size': 16})"
   ]
  },
  {
   "cell_type": "code",
   "execution_count": 2,
   "metadata": {},
   "outputs": [
    {
     "name": "stdout",
     "output_type": "stream",
     "text": [
      "dict_keys(['figure', 'authors', 'wildtype', 'log_transform', 'stdeviations', 'filename', 'genotypes', 'journal', 'mutations', 'n_replicates', 'phenotypes', 'replicate 1', 'replicate 2', 'title', 'url'])\n"
     ]
    }
   ],
   "source": [
    "# Load dataset\n",
    "dataset = path + \"krug1.json\"\n",
    "\n",
    "# Import dataset\n",
    "filename = dataset\n",
    "with open(filename, \"r\") as f:\n",
    "    data_json = json.load(f)\n",
    "\n",
    "# Print json keys\n",
    "print(data_json.keys())\n",
    "gpm = GenotypePhenotypeMap(wildtype=data_json[\"wildtype\"],\n",
    "                           genotypes=data_json[\"genotypes\"],\n",
    "                           phenotypes= (data_json[\"phenotypes\"]),\n",
    "                           stdeviations=data_json[\"stdeviations\"],\n",
    "                          n_replicates=data_json[\"n_replicates\"])"
   ]
  },
  {
   "cell_type": "code",
   "execution_count": 3,
   "metadata": {},
   "outputs": [],
   "source": [
    "errors = np.vstack((gpm.err.upper[1:],gpm.err.lower[1:]))"
   ]
  },
  {
   "cell_type": "code",
   "execution_count": 4,
   "metadata": {},
   "outputs": [],
   "source": [
    "# Fit high-order epistasis in linear phenotypes\n",
    "rsq = []\n",
    "\n",
    "for order in range(1,6):\n",
    "    linear = EpistasisPipeline([\n",
    "      EpistasisPowerTransform(lmbda=-1, A=1, B=0),\n",
    "      EpistasisLinearRegression(order=order)])    \n",
    "\n",
    "    linear.add_gpm(gpm)\n",
    "    linear.fit()\n",
    "    rsq.append(linear.score())"
   ]
  },
  {
   "cell_type": "code",
   "execution_count": 5,
   "metadata": {},
   "outputs": [
    {
     "data": {
      "text/html": [
       "<table><tr><th> name </th><th> value </th><th> standard error </th><th> relative error </th><th> initial value </th><th> min </th><th> max </th><th> vary </th></tr><tr><td> lmbda </td><td> -4.25356440 </td><td>  173.212691 </td><td> (4072.18%) </td><td> -1 </td><td>        -inf </td><td>         inf </td><td> True </td></tr><tr><td> A </td><td>  0.67621306 </td><td>  47.8936912 </td><td> (7082.63%) </td><td> 1 </td><td> -0.64221875 </td><td>         inf </td><td> True </td></tr><tr><td> B </td><td> -0.56630517 </td><td>  337.420606 </td><td> (59582.82%) </td><td> 0 </td><td>        -inf </td><td>         inf </td><td> True </td></tr></table>"
      ],
      "text/plain": [
       "Parameters([('lmbda',\n",
       "             <Parameter 'lmbda', value=-4.25356440068364 +/- 173, bounds=[-inf:inf]>),\n",
       "            ('A',\n",
       "             <Parameter 'A', value=0.6762130638041413 +/- 47.9, bounds=[-0.6422187500000001:inf]>),\n",
       "            ('B',\n",
       "             <Parameter 'B', value=-0.5663051721906674 +/- 337, bounds=[-inf:inf]>)])"
      ]
     },
     "execution_count": 5,
     "metadata": {},
     "output_type": "execute_result"
    }
   ],
   "source": [
    "linear[0].parameters"
   ]
  },
  {
   "cell_type": "code",
   "execution_count": 6,
   "metadata": {},
   "outputs": [
    {
     "name": "stdout",
     "output_type": "stream",
     "text": [
      "[0.7051254774505236, 0.7871846275676627, 0.8702867071791803, 0.9214898765493013, 0.9724337780017022]\n",
      "[0.7051254774505236, 0.08205915011713916, 0.08310207961151761, 0.05120316937012093, 0.05094390145240091]\n"
     ]
    },
    {
     "data": {
      "image/png": "[encoded data removed]",
      "text/plain": [
       "<Figure size 288x360 with 2 Axes>"
      ]
     },
     "metadata": {
      "needs_background": "light"
     },
     "output_type": "display_data"
    }
   ],
   "source": [
    "# Plot the coefs\n",
    "#plot.coefs(linear.epistasis.values, linear.epistasis.sites, figsize=(4,5))\n",
    "fig,ax = pyplot.plot_coefs(model=linear[1],sigmas=1,errors=errors, figsize=(4,5))\n",
    "\n",
    "# Plot the fraction explained\n",
    "frac_ex = [rsq[0]] + [rsq[i+1] - rsq[i] for i, r in enumerate(rsq[1:])]\n",
    "print(rsq)\n",
    "print(frac_ex)\n",
    "fig.savefig(\"../figures/krug1_coef.pdf\", format='pdf', transparent=True, dpi=500, pad_inches = 0)"
   ]
  },
  {
   "cell_type": "markdown",
   "metadata": {},
   "source": [
    "# Data set II"
   ]
  },
  {
   "cell_type": "code",
   "execution_count": 7,
   "metadata": {},
   "outputs": [
    {
     "name": "stdout",
     "output_type": "stream",
     "text": [
      "dict_keys(['figure', 'title', 'authors', 'description', 'url', 'journal', 'wildtype', 'log_transform', 'mutations', 'genotypes', 'phenotypes', 'stdeviations', 'n_replicates'])\n",
      "[0.9396217052606894, 0.9786200452739139, 0.9902383462616985, 0.9992145850478218, 0.9998845589222102]\n",
      "[0.9396217052606894, 0.03899834001322444, 0.011618300987784602, 0.008976238786123303, 0.0006699738743883854]\n"
     ]
    },
    {
     "data": {
      "image/png": "[encoded data removed]",
      "text/plain": [
       "<Figure size 288x360 with 2 Axes>"
      ]
     },
     "metadata": {
      "needs_background": "light"
     },
     "output_type": "display_data"
    }
   ],
   "source": [
    "dataset = path + \"khan.json\"\n",
    "# Import dataset\n",
    "filename = dataset\n",
    "with open(filename, \"r\") as f:\n",
    "    data_json = json.load(f)\n",
    "\n",
    "# Print json keys\n",
    "print(data_json.keys())\n",
    "gpm = GenotypePhenotypeMap(wildtype=data_json[\"wildtype\"],\n",
    "                           genotypes=data_json[\"genotypes\"],\n",
    "                           phenotypes= (data_json[\"phenotypes\"]),\n",
    "                           stdeviations=data_json[\"stdeviations\"],\n",
    "                          n_replicates=data_json[\"n_replicates\"])\n",
    "errors = np.vstack((gpm.err.upper[1:],gpm.err.lower[1:]))\n",
    "# Fit high-order epistasis in linear phenotypes\n",
    "rsq = []\n",
    "\n",
    "for order in range(1,6):\n",
    "    linear = EpistasisPipeline([\n",
    "      EpistasisPowerTransform(lmbda=1, A=0, B=0),\n",
    "      EpistasisLinearRegression(order=order)])    \n",
    "\n",
    "    linear.add_gpm(gpm)\n",
    "    linear.fit()\n",
    "    rsq.append(linear.score())\n",
    "# Plot the coefs\n",
    "fig,ax = pyplot.plot_coefs(model=linear[1],sigmas=1,errors=errors, figsize=(4,5))\n",
    "\n",
    "# Plot the fraction explained\n",
    "frac_ex = [rsq[0]] + [rsq[i+1] - rsq[i] for i, r in enumerate(rsq[1:])]\n",
    "print(rsq)\n",
    "print(frac_ex)\n",
    "fig.savefig(\"../figures/khan_coef.pdf\", format='pdf', transparent=True, dpi=500, pad_inches = 0)"
   ]
  },
  {
   "cell_type": "markdown",
   "metadata": {},
   "source": [
    "## Data set III"
   ]
  },
  {
   "cell_type": "code",
   "execution_count": 8,
   "metadata": {},
   "outputs": [
    {
     "name": "stdout",
     "output_type": "stream",
     "text": [
      "dict_keys(['authors', 'columns', 'description', 'errors', 'figure', 'filename', 'genotypes', 'journal', 'log_transform', 'mutations', 'n_replicates', 'phenotypes', 'rank', 'replicate 1', 'replicate 2', 'replicate 3', 'stdeviations', 'title', 'url', 'wildtype'])\n"
     ]
    },
    {
     "name": "stderr",
     "output_type": "stream",
     "text": [
      "D:\\Anaconda3\\lib\\site-packages\\epistasis\\models\\nonlinear\\power.py:54: RuntimeWarning: invalid value encountered in power\n",
      "  first = (x + A)**lmbda\n"
     ]
    },
    {
     "name": "stdout",
     "output_type": "stream",
     "text": [
      "[0.8916161173200029, 0.9195940666905595, 0.9383344292272628, 0.9922084119491671, nan]\n",
      "[0.8916161173200029, 0.027977949370556643, 0.018740362536703303, 0.053873982721904246, nan]\n"
     ]
    },
    {
     "data": {
      "image/png": "[encoded data removed]",
      "text/plain": [
       "<Figure size 288x360 with 2 Axes>"
      ]
     },
     "metadata": {
      "needs_background": "light"
     },
     "output_type": "display_data"
    }
   ],
   "source": [
    "dataset = path + \"weinreich.json\"\n",
    "\n",
    "# Import dataset\n",
    "filename = dataset\n",
    "with open(filename, \"r\") as f:\n",
    "    data_json = json.load(f)\n",
    "\n",
    "# Print json keys\n",
    "print(data_json.keys())\n",
    "data_json[\"phenotypes\"] =  - np.log(data_json[\"phenotypes\"] )\n",
    "gpm = GenotypePhenotypeMap(wildtype=data_json[\"wildtype\"],\n",
    "                           genotypes=data_json[\"genotypes\"],\n",
    "                           phenotypes= (data_json[\"phenotypes\"]),\n",
    "                           stdeviations=data_json[\"stdeviations\"],\n",
    "                          n_replicates=data_json[\"n_replicates\"])\n",
    "errors = np.vstack((gpm.err.upper[1:],gpm.err.lower[1:]))\n",
    "# Fit high-order epistasis in linear phenotypes\n",
    "rsq = []\n",
    "\n",
    "for order in range(1,6):\n",
    "    linear = EpistasisPipeline([\n",
    "      EpistasisPowerTransform(lmbda=1, A=0, B=0),\n",
    "      EpistasisLinearRegression(order=order)])    \n",
    "\n",
    "    linear.add_gpm(gpm)\n",
    "    linear.fit()\n",
    "    rsq.append(linear.score())\n",
    "# Plot the coefs\n",
    "fig,ax = pyplot.plot_coefs(model=linear[1],sigmas=1,errors=errors, figsize=(4,5))\n",
    "\n",
    "# Plot the fraction explained\n",
    "frac_ex = [rsq[0]] + [rsq[i+1] - rsq[i] for i, r in enumerate(rsq[1:])]\n",
    "print(rsq)\n",
    "print(frac_ex)\n",
    "fig.savefig(\"../figures/weinreich_coef.pdf\", format='pdf', transparent=True, dpi=500, pad_inches = 0)"
   ]
  },
  {
   "cell_type": "markdown",
   "metadata": {},
   "source": [
    "## Data set IV"
   ]
  },
  {
   "cell_type": "markdown",
   "metadata": {},
   "source": [
    "Data set IV was published as $\\Delta G$s, but were given to us as $k_a$s. Before fitting with a nonlinear epistasis model, we converted the values to $\\Delta G$s to be consistent with the literature."
   ]
  },
  {
   "cell_type": "code",
   "execution_count": 9,
   "metadata": {},
   "outputs": [
    {
     "name": "stdout",
     "output_type": "stream",
     "text": [
      "dict_keys(['figure', 'authors', 'log_transform', 'columns', 'stdeviations', 'filename', 'genotypes', 'journal', 'mutations', 'phenotypes', 'replicate 1', 'replicate 2', 'replicate 3', 'title', 'url', 'wildtype', 'n_replicates'])\n",
      "[[8.69665751e-08 4.10960934e-07 3.39585804e-06 9.90252493e-07\n",
      "  3.45264257e-06 4.46590292e-07 1.11415472e-06 7.89697551e-07\n",
      "  2.90835323e-07 1.57356872e-06 8.48685258e-07 1.55777619e-08\n",
      "  2.33196627e-07 3.94182981e-07 5.96716261e-07 1.39867662e-08\n",
      "  1.91311265e-08 4.75636026e-08 1.05022044e-08 3.77280719e-08\n",
      "  6.21330711e-08 5.73488351e-09 2.82488938e-08 9.68771654e-09\n",
      "  7.33590864e-08 1.40659821e-08 2.01457651e-08 4.49691252e-09\n",
      "  2.37268406e-09 3.68178701e-09 2.43857882e-08 1.90484178e-06\n",
      "  1.03237949e-06 3.52337275e-06 5.10801331e-06 7.62589497e-06\n",
      "  2.60904978e-06 4.45941949e-06 3.60820156e-06 9.25065884e-06\n",
      "  7.84861394e-07 2.45399599e-06 3.60535815e-06 4.05024279e-07\n",
      "  9.53325563e-07 5.76090721e-07 1.72337524e-06 2.85704198e-06\n",
      "  3.26691949e-06 4.25968265e-06 4.59373567e-06 1.17151592e-05\n",
      "  2.46420675e-05 9.25722101e-06 6.90903810e-06 3.00367553e-06\n",
      "  1.93797718e-06 4.31828498e-06 5.13321717e-06 1.09617540e-06\n",
      "  3.34056660e-06 1.05773693e-06 4.31508980e-07 4.73313223e-07\n",
      "  7.09958110e-07 1.01527493e-06 2.32881626e-07 4.91761761e-08\n",
      "  8.87255068e-07 6.77451160e-07 4.14193281e-07 2.13284022e-07\n",
      "  3.36185905e-07 3.63998474e-07 2.83780954e-07 5.79316328e-08\n",
      "  9.19194494e-08 3.24699291e-08 2.35848508e-07 8.58849920e-06\n",
      "  1.56508431e-06 3.70264270e-06 6.43165148e-06 6.06512496e-06\n",
      "  3.17390168e-06 4.27278468e-06 4.25382442e-06 8.79525924e-06\n",
      "  2.62537334e-06 5.79799263e-06 8.42387612e-06 2.00870513e-06\n",
      "  5.56520140e-06 3.22034160e-06 3.61553438e-06 2.73265168e-07\n",
      "  2.25372285e-07 1.85008709e-07 3.69486430e-07 1.19700552e-07\n",
      "  7.54416969e-07 9.30244890e-08 1.03801449e-07 2.61905977e-07\n",
      "  1.23605106e-07 2.59354326e-07 2.08787682e-07 6.20972952e-08\n",
      "  3.36529125e-08 3.32365261e-08 7.68466486e-08 4.49962961e-07\n",
      "  4.19211517e-07 2.23043127e-06 1.14201443e-06 3.38895701e-07\n",
      "  7.94541564e-07 5.39194736e-07 1.32099971e-06 5.64875404e-07\n",
      "  8.55069588e-07 1.62555290e-06 1.36866791e-06 1.51899821e-07\n",
      "  6.19539853e-08 1.62733138e-07 1.33995301e-07]\n",
      " [8.69665751e-08 4.10960934e-07 3.39585804e-06 9.90252493e-07\n",
      "  3.45264257e-06 4.46590292e-07 1.11415472e-06 7.89697551e-07\n",
      "  2.90835323e-07 1.57356872e-06 8.48685258e-07 1.55777619e-08\n",
      "  2.33196627e-07 3.94182981e-07 5.96716261e-07 1.39867662e-08\n",
      "  1.91311265e-08 4.75636026e-08 1.05022044e-08 3.77280719e-08\n",
      "  6.21330711e-08 5.73488351e-09 2.82488938e-08 9.68771654e-09\n",
      "  7.33590864e-08 1.40659821e-08 2.01457651e-08 4.49691252e-09\n",
      "  2.37268406e-09 3.68178701e-09 2.43857882e-08 1.90484178e-06\n",
      "  1.03237949e-06 3.52337275e-06 5.10801331e-06 7.62589497e-06\n",
      "  2.60904978e-06 4.45941949e-06 3.60820156e-06 9.25065884e-06\n",
      "  7.84861394e-07 2.45399599e-06 3.60535815e-06 4.05024279e-07\n",
      "  9.53325563e-07 5.76090721e-07 1.72337524e-06 2.85704198e-06\n",
      "  3.26691949e-06 4.25968265e-06 4.59373567e-06 1.17151592e-05\n",
      "  2.46420675e-05 9.25722101e-06 6.90903810e-06 3.00367553e-06\n",
      "  1.93797718e-06 4.31828498e-06 5.13321717e-06 1.09617540e-06\n",
      "  3.34056660e-06 1.05773693e-06 4.31508980e-07 4.73313223e-07\n",
      "  7.09958110e-07 1.01527493e-06 2.32881626e-07 4.91761761e-08\n",
      "  8.87255068e-07 6.77451160e-07 4.14193281e-07 2.13284022e-07\n",
      "  3.36185905e-07 3.63998474e-07 2.83780954e-07 5.79316328e-08\n",
      "  9.19194494e-08 3.24699291e-08 2.35848508e-07 8.58849920e-06\n",
      "  1.56508431e-06 3.70264270e-06 6.43165148e-06 6.06512496e-06\n",
      "  3.17390168e-06 4.27278468e-06 4.25382442e-06 8.79525924e-06\n",
      "  2.62537334e-06 5.79799263e-06 8.42387612e-06 2.00870513e-06\n",
      "  5.56520140e-06 3.22034160e-06 3.61553438e-06 2.73265168e-07\n",
      "  2.25372285e-07 1.85008709e-07 3.69486430e-07 1.19700552e-07\n",
      "  7.54416969e-07 9.30244890e-08 1.03801449e-07 2.61905977e-07\n",
      "  1.23605106e-07 2.59354326e-07 2.08787682e-07 6.20972952e-08\n",
      "  3.36529125e-08 3.32365261e-08 7.68466486e-08 4.49962961e-07\n",
      "  4.19211517e-07 2.23043127e-06 1.14201443e-06 3.38895701e-07\n",
      "  7.94541564e-07 5.39194736e-07 1.32099971e-06 5.64875404e-07\n",
      "  8.55069588e-07 1.62555290e-06 1.36866791e-06 1.51899821e-07\n",
      "  6.19539853e-08 1.62733138e-07 1.33995301e-07]]\n"
     ]
    },
    {
     "name": "stderr",
     "output_type": "stream",
     "text": [
      "D:\\Anaconda3\\lib\\site-packages\\epistasis\\models\\nonlinear\\power.py:54: RuntimeWarning: invalid value encountered in power\n",
      "  first = (x + A)**lmbda\n"
     ]
    },
    {
     "name": "stdout",
     "output_type": "stream",
     "text": [
      "[0.7075429462352608, nan, 0.9654696806782639, 0.994701868215507, 0.9965617048669905]\n",
      "[0.7075429462352608, nan, nan, 0.029232187537243104, 0.0018598366514834819]\n"
     ]
    },
    {
     "data": {
      "image/png": "[encoded data removed]",
      "text/plain": [
       "<Figure size 1008x360 with 2 Axes>"
      ]
     },
     "metadata": {
      "needs_background": "light"
     },
     "output_type": "display_data"
    }
   ],
   "source": [
    "dataset = path + \"anderson.json\"\n",
    "\n",
    "# gas constant and temperature\n",
    "R = 1.9872036e-3\n",
    "T = 293\n",
    "\n",
    "# Import dataset\n",
    "filename = dataset\n",
    "with open(filename, \"r\") as f:\n",
    "    data_json = json.load(f)\n",
    "\n",
    "# Print json keys\n",
    "print(data_json.keys())\n",
    "#data_json[\"phenotypes\"] =  - np.log(data_json[\"phenotypes\"] )#*R*T\n",
    "data_json[\"phenotypes\"] =  np.array(data_json[\"phenotypes\"] )\n",
    "\n",
    "gpm = GenotypePhenotypeMap(wildtype=data_json[\"wildtype\"],\n",
    "                           genotypes=data_json[\"genotypes\"],\n",
    "                           phenotypes= (data_json[\"phenotypes\"]),\n",
    "                           stdeviations=data_json[\"stdeviations\"],\n",
    "                          n_replicates=data_json[\"n_replicates\"])\n",
    "errors = (np.vstack((gpm.err.upper[1:],gpm.err.lower[1:])))\n",
    "# Fit high-order epistasis in linear phenotypes\n",
    "\n",
    "print(errors)\n",
    "rsq = []\n",
    "\n",
    "for order in range(1,6):\n",
    "    linear = EpistasisPipeline([\n",
    "      EpistasisPowerTransform(lmbda=1, A=-0.5, B=2),\n",
    "      EpistasisLinearRegression(order=order)])    \n",
    "\n",
    "    linear.add_gpm(gpm)\n",
    "    linear.fit()\n",
    "    rsq.append(linear.score())\n",
    "# Plot the coefs\n",
    "fig,ax = pyplot.plot_coefs(model=linear[1],sigmas=1,significance_cutoff = 0.0001,errors=errors, figsize=(14,5))\n",
    "# Plot the fraction explained\n",
    "frac_ex = [rsq[0]] + [rsq[i+1] - rsq[i] for i, r in enumerate(rsq[1:])]\n",
    "print(rsq)\n",
    "print(frac_ex)\n",
    "fig.savefig(\"../figures/anderson_coef.pdf\", format='pdf', transparent=True, dpi=500, pad_inches = 0)"
   ]
  }
 ],
 "metadata": {
  "kernelspec": {
   "display_name": "Python 3",
   "language": "python",
   "name": "python3"
  },
  "language_info": {
   "codemirror_mode": {
    "name": "ipython",
    "version": 3
   },
   "file_extension": ".py",
   "mimetype": "text/x-python",
   "name": "python",
   "nbconvert_exporter": "python",
   "pygments_lexer": "ipython3",
   "version": "3.7.3"
  }
 },
 "nbformat": 4,
 "nbformat_minor": 2
}
