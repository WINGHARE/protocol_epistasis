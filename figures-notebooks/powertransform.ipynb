{
 "cells": [
  {
   "cell_type": "markdown",
   "metadata": {},
   "source": [
    "# Figure 1"
   ]
  },
  {
   "cell_type": "markdown",
   "metadata": {},
   "source": [
    "We use a power-transform to estimate the shape of the nonlinear\n",
    "shape of the genotype-phenotype map."
   ]
  },
  {
   "cell_type": "code",
   "execution_count": 1,
   "metadata": {},
   "outputs": [],
   "source": [
    "#%matplotlib inline\n",
    "import matplotlib.pyplot as plt\n",
    "import matplotlib.gridspec as gridspec\n",
    "import numpy as np\n",
    "\n",
    "from gpmap import GenotypePhenotypeMap\n",
    "from epistasis.stats import pearson\n",
    "from epistasis import pyplot\n",
    "\n",
    "from epistasis.models.nonlinear.power import EpistasisPowerTransform\n",
    "from epistasis.models.nonlinear.ordinary import EpistasisNonlinearRegression\n"
   ]
  },
  {
   "cell_type": "markdown",
   "metadata": {},
   "source": [
    "## Data set IV"
   ]
  },
  {
   "cell_type": "code",
   "execution_count": 2,
   "metadata": {},
   "outputs": [],
   "source": [
    "# Path to dataset\n",
    "dataset = \"anderson\"\n",
    "path_data = \"../datasets/\" + dataset + \".json\""
   ]
  },
  {
   "cell_type": "code",
   "execution_count": 3,
   "metadata": {},
   "outputs": [
    {
     "name": "stdout",
     "output_type": "stream",
     "text": [
      "dict_keys(['figure', 'authors', 'log_transform', 'columns', 'stdeviations', 'filename', 'genotypes', 'journal', 'mutations', 'phenotypes', 'replicate 1', 'replicate 2', 'replicate 3', 'title', 'url', 'wildtype', 'n_replicates'])\n"
     ]
    }
   ],
   "source": [
    "# Import dataset\n",
    "import json\n",
    "filename = path_data\n",
    "with open(filename, \"r\") as f:\n",
    "    data_json = json.load(f)\n",
    "\n",
    "# Print json keys\n",
    "print(data_json.keys())"
   ]
  },
  {
   "cell_type": "code",
   "execution_count": 4,
   "metadata": {},
   "outputs": [],
   "source": [
    "#model = EpistasisPowerTransform.read_json(path_data, order=1, model_type=\"global\")\n",
    "# Preprocessing the phenotype scaling\n",
    "R = 1.9872036e-3\n",
    "T = 293\n",
    "\n",
    "data_json[\"phenotypes\"] =  - np.log(data_json[\"phenotypes\"] ) *R*T\n",
    "gpm = GenotypePhenotypeMap(wildtype=data_json[\"wildtype\"],\n",
    "                           genotypes=data_json[\"genotypes\"],\n",
    "                           phenotypes= (data_json[\"phenotypes\"]),\n",
    "                           stdeviations=data_json[\"stdeviations\"])"
   ]
  },
  {
   "cell_type": "code",
   "execution_count": 5,
   "metadata": {},
   "outputs": [
    {
     "data": {
      "text/plain": [
       "EpistasisPowerTransform(model_type='global')"
      ]
     },
     "execution_count": 5,
     "metadata": {},
     "output_type": "execute_result"
    }
   ],
   "source": [
    "# Construct the phenotype data\n",
    "model = EpistasisPowerTransform(lmbda=-1, A=0, B=0,order=1)\n",
    "# Add Genotype-phenotype map data.\n",
    "model.add_gpm(gpm)\n",
    "# Fit the model.\n",
    "model.fit()"
   ]
  },
  {
   "cell_type": "code",
   "execution_count": 6,
   "metadata": {},
   "outputs": [
    {
     "data": {
      "text/html": [
       "<table><tr><th> name </th><th> value </th><th> standard error </th><th> relative error </th><th> initial value </th><th> min </th><th> max </th><th> vary </th></tr><tr><td> lmbda </td><td>  2.92757678 </td><td>  3.67692494 </td><td> (125.60%) </td><td> -1 </td><td>        -inf </td><td>         inf </td><td> True </td></tr><tr><td> A </td><td> -2.33629402 </td><td>  8.47861763 </td><td> (362.91%) </td><td> 0 </td><td> -5.15712592 </td><td>         inf </td><td> True </td></tr><tr><td> B </td><td>  5.15900821 </td><td>  1.05186038 </td><td> (20.39%) </td><td> 0 </td><td>        -inf </td><td>         inf </td><td> True </td></tr></table>"
      ],
      "text/plain": [
       "Parameters([('lmbda',\n",
       "             <Parameter 'lmbda', value=2.9275767753820907 +/- 3.68, bounds=[-inf:inf]>),\n",
       "            ('A',\n",
       "             <Parameter 'A', value=-2.3362940238624494 +/- 8.48, bounds=[-5.157125923091494:inf]>),\n",
       "            ('B',\n",
       "             <Parameter 'B', value=5.159008209760626 +/- 1.05, bounds=[-inf:inf]>)])"
      ]
     },
     "execution_count": 6,
     "metadata": {},
     "output_type": "execute_result"
    }
   ],
   "source": [
    "# Show parameter fitted\n",
    "model.parameters"
   ]
  },
  {
   "cell_type": "code",
   "execution_count": 7,
   "metadata": {},
   "outputs": [
    {
     "data": {
      "image/png": "[encoded data removed]",
      "text/plain": [
       "<Figure size 288x288 with 3 Axes>"
      ]
     },
     "metadata": {
      "needs_background": "light"
     },
     "output_type": "display_data"
    }
   ],
   "source": [
    "padd = model.Additive.predict()\n",
    "\n",
    "################### Plotting ######################\n",
    "fig = plt.figure(figsize=(4,4))\n",
    "gs = gridspec.GridSpec(2,2, height_ratios=[4,1], width_ratios=[4,1])\n",
    "# Construct grid.\n",
    "ax_c = fig.add_subplot(gs[0:1, 0:1])\n",
    "ax_r = fig.add_subplot(gs[1: , 0:1], sharex=ax_c)\n",
    "ax_h = fig.add_subplot(gs[1: , 1: ], sharey=ax_r)\n",
    "\n",
    "### correlation plot\n",
    "# Plot correlation\n",
    "pyplot.plot_power_transform(model,ax=ax_c,s=15,function_line=True,color=plt.cm.gray)\n",
    "\n",
    "\n",
    "# Plot the nonlinear fit\n",
    "xmodel = np.linspace(min(padd), max(padd), 1000)\n",
    "\n",
    "ymodel = model.function(xmodel,  A=model.parameters.get(\"A\").value,\n",
    "                     B=model.parameters.get(\"B\").value,\n",
    "                    lmbda= model.parameters.get(\"lmbda\").value )\n",
    "\n",
    "### Plot residuals between observed phenotypes and nonlinear fit\n",
    "ydata = model.gpm.phenotypes\n",
    "\n",
    "ymod = model.function(padd, A=model.parameters.get(\"A\").value,\n",
    "                     B=model.parameters.get(\"B\").value,\n",
    "                    lmbda= model.parameters.get(\"lmbda\").value )\n",
    "\n",
    "resid = ymod - ydata\n",
    "ax_r.hlines(0,min(padd), max(padd), linestyle=\"--\", color=\"gray\")\n",
    "ax_r.spines[\"right\"].set_visible(False)\n",
    "ax_r.spines[\"top\"].set_visible(False)\n",
    "ax_r.plot(padd, resid, '.',color='black')\n",
    "\n",
    "### histogram\n",
    "ax_h.spines[\"right\"].set_visible(False)\n",
    "ax_h.spines[\"top\"].set_visible(False)\n",
    "ax_h.spines[\"bottom\"].set_visible(False)\n",
    "ax_h.set_xticks([])\n",
    "ax_h.hist(resid, bins=10, orientation=\"horizontal\",color='black')\n",
    "\n",
    "\n",
    "fig.savefig(\"../figures/\"+dataset+\".pdf\", format='pdf', transparent=True, dpi=500, pad_inches = 0)"
   ]
  },
  {
   "cell_type": "markdown",
   "metadata": {},
   "source": [
    "# Data set II"
   ]
  },
  {
   "cell_type": "code",
   "execution_count": 8,
   "metadata": {},
   "outputs": [
    {
     "name": "stdout",
     "output_type": "stream",
     "text": [
      "dict_keys(['figure', 'authors', 'wildtype', 'log_transform', 'stdeviations', 'filename', 'genotypes', 'journal', 'mutations', 'n_replicates', 'phenotypes', 'replicate 1', 'replicate 2', 'title', 'url'])\n"
     ]
    },
    {
     "data": {
      "image/png": "[encoded data removed]",
      "text/plain": [
       "<Figure size 288x288 with 3 Axes>"
      ]
     },
     "metadata": {
      "needs_background": "light"
     },
     "output_type": "display_data"
    }
   ],
   "source": [
    "# Path to dataset\n",
    "dataset = \"krug1\"\n",
    "path_data = \"../datasets/\" + dataset + \".json\"\n",
    "\n",
    "filename = path_data\n",
    "with open(filename, \"r\") as f:\n",
    "    data_json = json.load(f)\n",
    "\n",
    "# Print json keys\n",
    "print(data_json.keys())\n",
    "\n",
    "gpm = GenotypePhenotypeMap(wildtype=data_json[\"wildtype\"],\n",
    "                           genotypes=data_json[\"genotypes\"],\n",
    "                           phenotypes= data_json[\"phenotypes\"],\n",
    "                           stdeviations=data_json[\"stdeviations\"])\n",
    "# Construct the phenotype data\n",
    "model = EpistasisPowerTransform(lmbda=-0.5, A=0, B=0,order=1)\n",
    "# Add Genotype-phenotype map data.\n",
    "model.add_gpm(gpm)\n",
    "# Fit the model.\n",
    "model.fit()\n",
    "padd = model.Additive.predict()\n",
    "################### Plotting ######################\n",
    "fig = plt.figure(figsize=(4,4))\n",
    "gs = gridspec.GridSpec(2,2, height_ratios=[4,1], width_ratios=[4,1])\n",
    "# Construct grid.\n",
    "ax_c = fig.add_subplot(gs[0:1, 0:1])\n",
    "ax_r = fig.add_subplot(gs[1: , 0:1], sharex=ax_c)\n",
    "ax_h = fig.add_subplot(gs[1: , 1: ], sharey=ax_r)\n",
    "\n",
    "### correlation plot\n",
    "# Infer P_additive\n",
    "\n",
    "\n",
    "# Plot correlation\n",
    "pyplot.plot_power_transform(model,ax=ax_c,s=15,function_line=True,color=plt.cm.gray)\n",
    "\n",
    "\n",
    "# Plot the nonlinear fit\n",
    "xmodel = np.linspace(min(padd), max(padd), 1000)\n",
    "ymodel = model.function(xmodel,  A=model.parameters.get(\"A\").value,\n",
    "                     B=model.parameters.get(\"B\").value,\n",
    "                    lmbda= model.parameters.get(\"lmbda\").value )\n",
    "\n",
    "### Plot residuals between observed phenotypes and nonlinear fit\n",
    "ydata = model.gpm.phenotypes\n",
    "ymod = model.function(padd, A=model.parameters.get(\"A\").value,\n",
    "                     B=model.parameters.get(\"B\").value,\n",
    "                    lmbda= model.parameters.get(\"lmbda\").value )\n",
    "\n",
    "resid = ymod - ydata\n",
    "ax_r.hlines(0,min(padd), max(padd), linestyle=\"--\", color=\"gray\")\n",
    "ax_r.spines[\"right\"].set_visible(False)\n",
    "ax_r.spines[\"top\"].set_visible(False)\n",
    "ax_r.plot(padd, resid, '.',color='black')\n",
    "\n",
    "### histogram\n",
    "ax_h.spines[\"right\"].set_visible(False)\n",
    "ax_h.spines[\"top\"].set_visible(False)\n",
    "ax_h.spines[\"bottom\"].set_visible(False)\n",
    "ax_h.set_xticks([])\n",
    "ax_h.hist(resid, bins=10, orientation=\"horizontal\",color='black')\n",
    "\n",
    "### save fig\n",
    "fig.savefig(\"../figures/\"+dataset+\".pdf\", format='pdf', transparent=True, dpi=500, pad_inches = 0)"
   ]
  },
  {
   "cell_type": "markdown",
   "metadata": {},
   "source": [
    "# Data set III"
   ]
  },
  {
   "cell_type": "code",
   "execution_count": 9,
   "metadata": {},
   "outputs": [
    {
     "name": "stdout",
     "output_type": "stream",
     "text": [
      "dict_keys(['authors', 'columns', 'description', 'errors', 'figure', 'filename', 'genotypes', 'journal', 'log_transform', 'mutations', 'n_replicates', 'phenotypes', 'rank', 'replicate 1', 'replicate 2', 'replicate 3', 'stdeviations', 'title', 'url', 'wildtype'])\n"
     ]
    },
    {
     "data": {
      "image/png": "[encoded data removed]",
      "text/plain": [
       "<Figure size 288x288 with 3 Axes>"
      ]
     },
     "metadata": {
      "needs_background": "light"
     },
     "output_type": "display_data"
    }
   ],
   "source": [
    "# Path to dataset\n",
    "dataset = \"weinreich\"\n",
    "path_data = \"../datasets/\" + dataset + \".json\"\n",
    "\n",
    "filename = path_data\n",
    "with open(filename, \"r\") as f:\n",
    "    data_json = json.load(f)\n",
    "\n",
    "# Print json keys\n",
    "print(data_json.keys())\n",
    "data_json[\"phenotypes\"] =  -np.log(data_json[\"phenotypes\"] )\n",
    "\n",
    "gpm = GenotypePhenotypeMap(wildtype=data_json[\"wildtype\"],\n",
    "                           genotypes=data_json[\"genotypes\"],\n",
    "                           phenotypes= data_json[\"phenotypes\"],\n",
    "                           stdeviations=data_json[\"stdeviations\"])\n",
    "# Construct the phenotype data\n",
    "model = EpistasisPowerTransform(lmbda=-1, A=1, B=0)\n",
    "# Add Genotype-phenotype map data.\n",
    "model.add_gpm(gpm)\n",
    "# Fit the model.\n",
    "model.fit()\n",
    "padd = model.Additive.predict()\n",
    "################### Plotting ######################\n",
    "fig = plt.figure(figsize=(4,4))\n",
    "gs = gridspec.GridSpec(2,2, height_ratios=[4,1], width_ratios=[4,1])\n",
    "# Construct grid.\n",
    "ax_c = fig.add_subplot(gs[0:1, 0:1])\n",
    "ax_r = fig.add_subplot(gs[1: , 0:1], sharex=ax_c)\n",
    "ax_h = fig.add_subplot(gs[1: , 1: ], sharey=ax_r)\n",
    "\n",
    "### correlation plot\n",
    "# Plot correlation\n",
    "pyplot.plot_power_transform(model,ax=ax_c,s=15,function_line=True,color=plt.cm.gray)\n",
    "# Plot the nonlinear fit\n",
    "xmodel = np.linspace(min(padd), max(padd), 1000)\n",
    "ymodel = model.function(xmodel,  A=model.parameters.get(\"A\").value,\n",
    "                     B=model.parameters.get(\"B\").value,\n",
    "                    lmbda= model.parameters.get(\"lmbda\").value )\n",
    "\n",
    "### Plot residuals between observed phenotypes and nonlinear fit\n",
    "ydata = model.gpm.phenotypes\n",
    "ymod = model.function(padd, A=model.parameters.get(\"A\").value,\n",
    "                     B=model.parameters.get(\"B\").value,\n",
    "                    lmbda= model.parameters.get(\"lmbda\").value )\n",
    "\n",
    "resid = ymod - ydata\n",
    "ax_r.hlines(0,min(padd), max(padd), linestyle=\"--\", color=\"gray\")\n",
    "ax_r.spines[\"right\"].set_visible(False)\n",
    "ax_r.spines[\"top\"].set_visible(False)\n",
    "ax_r.plot(padd, resid, '.',color='black')\n",
    "\n",
    "### histogram\n",
    "ax_h.spines[\"right\"].set_visible(False)\n",
    "ax_h.spines[\"top\"].set_visible(False)\n",
    "ax_h.spines[\"bottom\"].set_visible(False)\n",
    "ax_h.set_xticks([])\n",
    "ax_h.hist(resid, bins=10, orientation=\"horizontal\",color='black')\n",
    "\n",
    "### save fig\n",
    "fig.savefig(\"../figures/\"+dataset+\".pdf\", format='pdf', transparent=True, dpi=500, pad_inches = 0)"
   ]
  },
  {
   "cell_type": "markdown",
   "metadata": {},
   "source": [
    "## Data set I"
   ]
  },
  {
   "cell_type": "markdown",
   "metadata": {},
   "source": [
    "Data set IV was published as $\\Delta G$s, but were given to us as $k_a$s. Before fitting with a nonlinear epistasis model, we converted the values to $\\Delta G$s to be consistent with the literature."
   ]
  },
  {
   "cell_type": "code",
   "execution_count": 10,
   "metadata": {},
   "outputs": [
    {
     "name": "stdout",
     "output_type": "stream",
     "text": [
      "dict_keys(['figure', 'title', 'authors', 'description', 'url', 'journal', 'wildtype', 'log_transform', 'mutations', 'genotypes', 'phenotypes', 'stdeviations', 'n_replicates'])\n"
     ]
    },
    {
     "data": {
      "image/png": "[encoded data removed]",
      "text/plain": [
       "<Figure size 288x288 with 3 Axes>"
      ]
     },
     "metadata": {
      "needs_background": "light"
     },
     "output_type": "display_data"
    }
   ],
   "source": [
    "# Path to dataset\n",
    "dataset = \"khan\"\n",
    "path_data = \"../datasets/\" + dataset + \".json\"\n",
    "\n",
    "filename = path_data\n",
    "with open(filename, \"r\") as f:\n",
    "    data_json = json.load(f)\n",
    "\n",
    "# Print json keys\n",
    "print(data_json.keys())\n",
    "\n",
    "gpm = GenotypePhenotypeMap(wildtype=data_json[\"wildtype\"],\n",
    "                           genotypes=data_json[\"genotypes\"],\n",
    "                           phenotypes= data_json[\"phenotypes\"],\n",
    "                           stdeviations=data_json[\"stdeviations\"])\n",
    "# Construct the phenotype data\n",
    "model = EpistasisPowerTransform(lmbda=-1, A=0, B=0)\n",
    "# Add Genotype-phenotype map data.\n",
    "model.add_gpm(gpm)\n",
    "# Fit the model.\n",
    "model.fit()\n",
    "padd = model.Additive.predict()\n",
    "################### Plotting ######################\n",
    "fig = plt.figure(figsize=(4,4))\n",
    "gs = gridspec.GridSpec(2,2, height_ratios=[4,1], width_ratios=[4,1])\n",
    "# Construct grid.\n",
    "ax_c = fig.add_subplot(gs[0:1, 0:1])\n",
    "ax_r = fig.add_subplot(gs[1: , 0:1], sharex=ax_c)\n",
    "ax_h = fig.add_subplot(gs[1: , 1: ], sharey=ax_r)\n",
    "\n",
    "### correlation plot\n",
    "# Plot correlation\n",
    "pyplot.plot_power_transform(model,ax=ax_c,s=15,function_line=True,color=plt.cm.gray)\n",
    "# Plot the nonlinear fit\n",
    "xmodel = np.linspace(min(padd), max(padd), 1000)\n",
    "ymodel = model.function(xmodel,  A=model.parameters.get(\"A\").value,\n",
    "                     B=model.parameters.get(\"B\").value,\n",
    "                    lmbda= model.parameters.get(\"lmbda\").value )\n",
    "\n",
    "### Plot residuals between observed phenotypes and nonlinear fit\n",
    "ydata = model.gpm.phenotypes\n",
    "ymod = model.function(padd, A=model.parameters.get(\"A\").value,\n",
    "                     B=model.parameters.get(\"B\").value,\n",
    "                    lmbda= model.parameters.get(\"lmbda\").value )\n",
    "\n",
    "resid = ymod - ydata\n",
    "ax_r.hlines(0,min(padd), max(padd), linestyle=\"--\", color=\"gray\")\n",
    "ax_r.spines[\"right\"].set_visible(False)\n",
    "ax_r.spines[\"top\"].set_visible(False)\n",
    "ax_r.plot(padd, resid, '.',color='black')\n",
    "\n",
    "### histogram\n",
    "ax_h.spines[\"right\"].set_visible(False)\n",
    "ax_h.spines[\"top\"].set_visible(False)\n",
    "ax_h.spines[\"bottom\"].set_visible(False)\n",
    "ax_h.set_xticks([])\n",
    "ax_h.hist(resid, bins=10, orientation=\"horizontal\",color='black')\n",
    "\n",
    "### save fig\n",
    "fig.savefig(\"../figures/\"+dataset+\".pdf\", format='pdf', transparent=True, dpi=500, pad_inches = 0)"
   ]
  }
 ],
 "metadata": {
  "kernelspec": {
   "display_name": "Python 3",
   "language": "python",
   "name": "python3"
  },
  "language_info": {
   "codemirror_mode": {
    "name": "ipython",
    "version": 3
   },
   "file_extension": ".py",
   "mimetype": "text/x-python",
   "name": "python",
   "nbconvert_exporter": "python",
   "pygments_lexer": "ipython3",
   "version": "3.7.3"
  }
 },
 "nbformat": 4,
 "nbformat_minor": 2
}
